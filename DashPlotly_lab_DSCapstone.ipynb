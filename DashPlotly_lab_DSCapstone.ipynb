{
 "cells": [
  {
   "cell_type": "markdown",
   "id": "f165774f-0e32-4457-be01-0e576a416a3a",
   "metadata": {},
   "source": [
    "# Plotly/Dash Dashboard\n",
    "## Analysing SpaceX data and deploying an interactive dashboard\n",
    "**Notebook for the Dash/PLotly lab**  \n",
    "*Created locally by me to complete the session, given the the actual online service for the lab was down*"
   ]
  },
  {
   "cell_type": "markdown",
   "id": "250d2719-35f1-46fd-9e09-0b0e91cc4fc0",
   "metadata": {},
   "source": [
    "**Code block required to get wget, in case it wasn't installed**\n",
    "\n",
    "    !pip install wget\n",
    "    \n",
    "    import wget\n",
    "    \n",
    "    #Getting the dataset we will be using\n",
    "    \n",
    "    wget.download(\"https://cf-courses-data.s3.us.cloud-object-storage.appdomain.cloud/IBM-DS0321EN-SkillsNetwork/datasets/spacex_launch_dash.csv\")"
   ]
  },
  {
   "cell_type": "markdown",
   "id": "73a4439c-a07f-436e-8511-d291e8a7a613",
   "metadata": {},
   "source": [
    "## Now, the actual notebook"
   ]
  },
  {
   "cell_type": "code",
   "execution_count": 1,
   "id": "ee560210-43e2-4017-9229-aa3b4e98a5bd",
   "metadata": {},
   "outputs": [],
   "source": [
    "import dash\n",
    "import plotly.express as px\n",
    "import numpy as np\n",
    "import pandas as pd"
   ]
  },
  {
   "cell_type": "code",
   "execution_count": 2,
   "id": "f68a7062-d2bf-4a3b-837d-eb0df56081d5",
   "metadata": {},
   "outputs": [],
   "source": [
    "from dash import Dash, dcc, html, no_update\n",
    "from dash.dependencies import Input, Output, State"
   ]
  },
  {
   "cell_type": "code",
   "execution_count": 3,
   "id": "bd70ced7-e1c9-4c29-97ff-574b8fd7a4d4",
   "metadata": {},
   "outputs": [],
   "source": [
    "df = pd.read_csv(\"https://cf-courses-data.s3.us.cloud-object-storage.appdomain.cloud/IBM-DS0321EN-SkillsNetwork/datasets/spacex_launch_dash.csv\")"
   ]
  },
  {
   "cell_type": "markdown",
   "id": "cb419627-4221-40da-a3e1-889963dd5446",
   "metadata": {},
   "source": [
    "### 1st part - Launch site v succes rate\n",
    "**Creating the first part of the app**  \n",
    "Adding the pie chart to represent the succes rate of launches per launch site"
   ]
  },
  {
   "cell_type": "code",
   "execution_count": 4,
   "id": "81cb838e-d2d1-455a-8e52-1a3caf756ffa",
   "metadata": {},
   "outputs": [],
   "source": [
    "app = Dash('SpaceX Dashboard')\n",
    "\n",
    "\n",
    "# Let's create the customized options, to include the all sites keayword\n",
    "dropdown_options = [{'label':'All Sites', 'value':'ALL'},]\n",
    "dropdown_options.extend([{'label':lsite,'value':lsite} for lsite in df['Launch Site'].unique()])\n",
    "\n",
    "app.layout = html.Div([\n",
    "    dcc.Dropdown(\n",
    "        options = dropdown_options,\n",
    "        value = 'ALL',\n",
    "        multi = False,\n",
    "        id = 'launch_selected'\n",
    "    ),\n",
    "    dcc.Graph(id='pie-chart'),\n",
    "])\n",
    "\n",
    "@app.callback(\n",
    "    Output('pie-chart', 'figure'),\n",
    "    Input('launch_selected', 'value'))\n",
    "def update_figure(selected_launchSite):\n",
    "    \"\"\"\n",
    "    Callback method that renders a pie chart.\n",
    "    If the option All Sites is selected (keyword ALL) -> the success rate for each site is rendered\n",
    "    If an specific site  is selected (keyword Name of site) -> the % success vs % failure is rendered\n",
    "    \"\"\"\n",
    "    if selected_launchSite is None:\n",
    "        #Safeguard in case of breaking the dropdown somehow\n",
    "        return no_update\n",
    "    \n",
    "    if selected_launchSite == 'ALL':\n",
    "        #No filtering needed here\n",
    "        return px.pie(\n",
    "            data_frame = df,\n",
    "            names='Launch Site',\n",
    "            values='class',\n",
    "            title= f'Total Success Launches by site'\n",
    "        )\n",
    "    \n",
    "    #Not and else required, given that the return is hit previously\n",
    "    filtered_df = df[df['Launch Site'] == selected_launchSite]\n",
    "    return px.pie(\n",
    "        data_frame = filtered_df,\n",
    "        names='class',\n",
    "        title= f'Total Success Launches for site {selected_launchSite}'\n",
    "    )\n",
    "\n",
    "\n",
    "\n",
    "#app.run_server(debug=True)"
   ]
  },
  {
   "cell_type": "code",
   "execution_count": 9,
   "id": "86bf029d",
   "metadata": {},
   "outputs": [
    {
     "name": "stdout",
     "output_type": "stream",
     "text": [
      "Dash is running on http://127.0.0.1:8050/\n",
      "\n",
      " * Serving Flask app 'SpaceX-Dashboard'\n",
      " * Debug mode: on\n"
     ]
    },
    {
     "ename": "SystemExit",
     "evalue": "1",
     "output_type": "error",
     "traceback": [
      "An exception has occurred, use %tb to see the full traceback.\n",
      "\u001b[1;31mSystemExit\u001b[0m\u001b[1;31m:\u001b[0m 1\n"
     ]
    },
    {
     "name": "stderr",
     "output_type": "stream",
     "text": [
      "d:\\Anaconda3\\envs\\dash-app-tutorial\\lib\\site-packages\\IPython\\core\\interactiveshell.py:3406: UserWarning:\n",
      "\n",
      "To exit: use 'exit', 'quit', or Ctrl-D.\n",
      "\n"
     ]
    }
   ],
   "source": [
    "app.run_server()"
   ]
  },
  {
   "cell_type": "markdown",
   "id": "a52073c5-71ff-4c86-a849-22a4352433a0",
   "metadata": {},
   "source": [
    "### 2nd part - Payload mass v Success class for launches\n",
    "**Creating the second iteration of the app**  \n",
    "Adding the scatter plot for the payload mass v success launches"
   ]
  },
  {
   "cell_type": "code",
   "execution_count": 6,
   "id": "e2f34e35",
   "metadata": {},
   "outputs": [],
   "source": [
    "min_payload = df['Payload Mass (kg)'].min()\n",
    "max_payload = df['Payload Mass (kg)'].max()"
   ]
  },
  {
   "cell_type": "code",
   "execution_count": 8,
   "id": "75cfe292",
   "metadata": {},
   "outputs": [
    {
     "data": {
      "text/plain": [
       "0"
      ]
     },
     "execution_count": 8,
     "metadata": {},
     "output_type": "execute_result"
    }
   ],
   "source": [
    "int(min_payload)"
   ]
  },
  {
   "cell_type": "code",
   "execution_count": 11,
   "id": "bc1ecfec-6162-45cc-b13f-40c0df5acc9f",
   "metadata": {},
   "outputs": [],
   "source": [
    "app = Dash('SpaceX Dashboard')\n",
    "\n",
    "\n",
    "\n",
    "#Adding some customization to the marks - Colour scale ....\n",
    "#color_list = [\"#7FFF00\",\"#FFD700\",\"#FF8C00\",\"#FF0000\",\"#8B2252\"]\n",
    "#marks_styled_1 = {int(el) : {\"label\":f\"{int(el)} kg\", \"style\":{\"color\":color_list[i]}} for i,el in enumerate(np.linspace(0,10000,5))}\n",
    "marks_styled = {str(int(el)):{\"label\": f\"{int(el)}\",\"style\":{\"color\":\"#228B22\"}} for el in np.linspace(0,10000,5)}\n",
    "marks_styled[str(int(min_payload))] =  {\"label\": f\"Minimum : {int(min_payload)}\",\"style\":{\"color\":\"#228B22\"}}\n",
    "marks_styled[str(int(max_payload))] =  {\"label\": f\"Maximum : {int(max_payload)}\",\"style\":{\"color\":\"#DC143C\"}}\n",
    "\n",
    "app.layout = html.Div([\n",
    "    dcc.RangeSlider(\n",
    "        id='payload-slider',\n",
    "        min=0, \n",
    "        max=10000, \n",
    "        step=1000,\n",
    "        marks=marks_styled,\n",
    "        #marks = {int(el):f\"{int(el)}\" for el in np.linspace(0,10000,5)},\n",
    "        value=[min_payload, max_payload],\n",
    "        tooltip={\"placement\": \"bottom\", \"always_visible\": True},\n",
    "        \n",
    "    ),\n",
    "    dcc.Graph(id=\"success-payload-scatter-chart\"),\n",
    "])\n",
    "\n",
    "@app.callback(\n",
    "    Output(\"success-payload-scatter-chart\", 'figure'),\n",
    "    Input('payload-slider', 'value'))\n",
    "def update_figure(selected_payloadRange):\n",
    "    \"\"\"\n",
    "    Callback method that renders a scatter chart.\n",
    "    The graph shows the successfull launches filtered by the\n",
    "    range of payload mass [in kg] selected\n",
    "    \"\"\"\n",
    "    if selected_payloadRange is None:\n",
    "        #Safeguard in case of breaking the slider somehow\n",
    "        return no_update    \n",
    "    \n",
    "    #Not and else required, given that the return is hit previously\n",
    "    filtered_df = df[df['Payload Mass (kg)'].isin(range(*selected_payloadRange))]\n",
    "    return px.scatter(filtered_df,\n",
    "        x = 'Payload Mass (kg)',\n",
    "        y = 'class',\n",
    "        color = 'Booster Version Category',\n",
    "        title= 'Correlation between Payload and Success for all Sites'\n",
    "        )\n",
    "\n",
    "\n",
    "\n",
    "#app.run_server(debug=True)"
   ]
  },
  {
   "cell_type": "code",
   "execution_count": 12,
   "id": "c3ca2f97-e4e3-4d27-ad4f-4619f4cf56ee",
   "metadata": {},
   "outputs": [
    {
     "name": "stdout",
     "output_type": "stream",
     "text": [
      "Dash is running on http://127.0.0.1:8050/\n",
      "\n",
      "Dash is running on http://127.0.0.1:8050/\n",
      "\n",
      "Dash is running on http://127.0.0.1:8050/\n",
      "\n",
      " * Serving Flask app 'SpaceX Dashboard'\n",
      " * Debug mode: off\n"
     ]
    },
    {
     "name": "stderr",
     "output_type": "stream",
     "text": [
      "WARNING: This is a development server. Do not use it in a production deployment. Use a production WSGI server instead.\n",
      " * Running on http://127.0.0.1:8050\n",
      "Press CTRL+C to quit\n"
     ]
    }
   ],
   "source": [
    "app.run_server()"
   ]
  },
  {
   "cell_type": "markdown",
   "id": "1ed8d641-5bd9-4830-aa4d-c95aa628359a",
   "metadata": {},
   "source": [
    "## Complete app\n",
    "\n",
    "**Now, let's bring all together**\n",
    "\n",
    "The only thing left here is to bring all the functinoalities together in a single dashboard.\n"
   ]
  },
  {
   "cell_type": "markdown",
   "id": "0c1bbb51-7063-42fd-a361-9b69c2fe7f55",
   "metadata": {},
   "source": [
    "**Imports**"
   ]
  },
  {
   "cell_type": "code",
   "execution_count": 4,
   "id": "03f21d90-7759-4ba1-abb0-f57857ef88e5",
   "metadata": {},
   "outputs": [],
   "source": [
    "#import dash\n",
    "import plotly.express as px\n",
    "import numpy as np\n",
    "import pandas as pd\n",
    "from dash import Dash, dcc, html, no_update\n",
    "from dash.dependencies import Input, Output\n",
    "\n",
    "from jupyter_dash import JupyterDash"
   ]
  },
  {
   "attachments": {},
   "cell_type": "markdown",
   "id": "8eed8498-a6bc-47da-afbb-8580fd62fef2",
   "metadata": {},
   "source": [
    "**Loading dataset directly from the URL**"
   ]
  },
  {
   "cell_type": "code",
   "execution_count": 5,
   "id": "193ae107-b06a-49b1-8e3f-5cfd67242877",
   "metadata": {},
   "outputs": [],
   "source": [
    "df = pd.read_csv(\"https://cf-courses-data.s3.us.cloud-object-storage.appdomain.cloud/IBM-DS0321EN-SkillsNetwork/datasets/spacex_launch_dash.csv\")"
   ]
  },
  {
   "cell_type": "markdown",
   "id": "3bea7e8e-ec46-4133-a763-79341bfa444d",
   "metadata": {},
   "source": [
    "**App structure**"
   ]
  },
  {
   "cell_type": "code",
   "execution_count": 6,
   "id": "5cfd5fba",
   "metadata": {},
   "outputs": [],
   "source": [
    "app = Dash('SpaceX-Dashboard')\n",
    "#app = JupyterDash('SpaceX-Dashboard')"
   ]
  },
  {
   "attachments": {},
   "cell_type": "markdown",
   "id": "eda6fc50",
   "metadata": {},
   "source": [
    "**Layout**"
   ]
  },
  {
   "cell_type": "code",
   "execution_count": 7,
   "id": "fa54e667-e650-406e-9187-3ee8754c72de",
   "metadata": {},
   "outputs": [],
   "source": [
    "# Let's create the customized options, to include the all sites keayword\n",
    "dropdown_options = [{'label':'All Sites', 'value':'ALL'},]\n",
    "dropdown_options.extend([{'label':lsite,'value':lsite} for lsite in df['Launch Site'].unique()])\n",
    "\n",
    "#Now the customization for the scatter plot and the range slider\n",
    "min_payload = df['Payload Mass (kg)'].min()\n",
    "max_payload = df['Payload Mass (kg)'].max()\n",
    "\n",
    "#Adding some customization to the marks - Colour scale ....\n",
    "marks_styled = {int(el):{\"label\": f\"{int(el)}\",\"style\":{\"color\":\"#000000\"}} for el in np.linspace(0,10000,5)}\n",
    "marks_styled[int(min_payload)] =  {\"label\": f\"Minimum : {int(min_payload)}\",\"style\":{\"color\":\"#228B22\"}}\n",
    "marks_styled[int(max_payload)] =  {\"label\": f\"Maximum : {int(max_payload)}\",\"style\":{\"color\":\"#DC143C\"}}\n",
    "\n",
    "#The layout\n",
    "app.layout = html.Div(\n",
    "    [\n",
    "        html.H1(\"SpaceX Launch Records Dashboard\"),\n",
    "        html.Hr(),\n",
    "        dcc.Dropdown(\n",
    "            options = dropdown_options,\n",
    "            value = 'ALL',\n",
    "            multi = False,\n",
    "            id = 'launch-selected'\n",
    "        ),\n",
    "        dcc.Graph(id='pie-chart'),\n",
    "        html.Hr(),\n",
    "        dcc.Graph(id=\"success-payload-scatter-chart\"),\n",
    "        dcc.RangeSlider(\n",
    "            id='payload-slider',\n",
    "            min=0, \n",
    "            max=10000, \n",
    "            step=1000,\n",
    "            marks=marks_styled,\n",
    "            value=[min_payload, max_payload],\n",
    "            tooltip={\"placement\": \"top\", \"always_visible\": True},\n",
    "\n",
    "        ),\n",
    "    ]\n",
    ")"
   ]
  },
  {
   "attachments": {},
   "cell_type": "markdown",
   "id": "ce59abad",
   "metadata": {},
   "source": [
    "**Callbacks**"
   ]
  },
  {
   "cell_type": "code",
   "execution_count": 8,
   "id": "e3e71ad0",
   "metadata": {},
   "outputs": [],
   "source": [
    "#Callbacks\n",
    "@app.callback(\n",
    "    Output('pie-chart', 'figure'),\n",
    "    Input('launch-selected', 'value'))\n",
    "def update_pie_figure(selected_launchSite):\n",
    "    \"\"\"\n",
    "    Callback method that renders a pie chart.\n",
    "    If the option All Sites is selected (keyword ALL) -> the success rate for each site is rendered\n",
    "    If an specific site  is selected (keyword Name of site) -> the % success vs % failure is rendered\n",
    "    \"\"\"\n",
    "    if selected_launchSite is None:\n",
    "        #Safeguard in case of breaking the dropdown somehow\n",
    "        return no_update\n",
    "    \n",
    "    if selected_launchSite == 'ALL':\n",
    "        #No filtering needed here\n",
    "        return px.pie(\n",
    "            data_frame = df,\n",
    "            names='Launch Site',\n",
    "            values='class',\n",
    "            title= f'Total Success Launches by site'\n",
    "        )\n",
    "    \n",
    "    #Not and else required, given that the return is hit previously\n",
    "    filtered_df = df[df['Launch Site'] == selected_launchSite]\n",
    "    return px.pie(\n",
    "        data_frame = filtered_df,\n",
    "        names='class',\n",
    "        title= f'Total Success Launches for site {selected_launchSite}'\n",
    "    )\n",
    "\n",
    "@app.callback(\n",
    "    Output(\"success-payload-scatter-chart\", 'figure'),\n",
    "    Input('payload-slider', 'value'))\n",
    "def update_scatter_figure(selected_payloadRange):\n",
    "    \"\"\"\n",
    "    Callback method that renders a scatter chart.\n",
    "    The graph shows the successfull launches filtered by the\n",
    "    range of payload mass [in kg] selected\n",
    "    \"\"\"\n",
    "    if selected_payloadRange is None:\n",
    "        #Safeguard in case of breaking the slider somehow\n",
    "        return no_update    \n",
    "    \n",
    "    #Not and else required, given that the return is hit previously\n",
    "    filtered_df = df[df['Payload Mass (kg)'].isin(range(*selected_payloadRange))]\n",
    "    return px.scatter(filtered_df,\n",
    "        x = 'Payload Mass (kg)',\n",
    "        y = 'class',\n",
    "        color = 'Booster Version Category',\n",
    "        title= 'Correlation between Payload and Success for all Sites'\n",
    "        )"
   ]
  },
  {
   "cell_type": "markdown",
   "id": "c3ac9dce-4c54-42c7-abca-4cb66c83e5d3",
   "metadata": {},
   "source": [
    "**Running the server**"
   ]
  },
  {
   "cell_type": "code",
   "execution_count": 9,
   "id": "9c296f85",
   "metadata": {},
   "outputs": [
    {
     "name": "stdout",
     "output_type": "stream",
     "text": [
      "Dash is running on http://127.0.0.1:8050/\n",
      "\n",
      " * Serving Flask app 'SpaceX-Dashboard'\n",
      " * Debug mode: off\n"
     ]
    },
    {
     "name": "stderr",
     "output_type": "stream",
     "text": [
      "WARNING: This is a development server. Do not use it in a production deployment. Use a production WSGI server instead.\n",
      " * Running on http://127.0.0.1:8050\n",
      "Press CTRL+C to quit\n",
      "127.0.0.1 - - [11/Mar/2023 13:13:51] \"GET / HTTP/1.1\" 200 -\n",
      "127.0.0.1 - - [11/Mar/2023 13:13:51] \"GET /_dash-component-suites/dash/deps/polyfill@7.v2_6_1m1659522771.12.1.min.js HTTP/1.1\" 200 -\n",
      "127.0.0.1 - - [11/Mar/2023 13:13:51] \"GET /_dash-component-suites/dash/deps/react@16.v2_6_1m1659522771.14.0.min.js HTTP/1.1\" 200 -\n",
      "127.0.0.1 - - [11/Mar/2023 13:13:51] \"GET /_dash-component-suites/dash/deps/react-dom@16.v2_6_1m1659522771.14.0.min.js HTTP/1.1\" 200 -\n",
      "127.0.0.1 - - [11/Mar/2023 13:13:51] \"GET /_dash-component-suites/dash/deps/prop-types@15.v2_6_1m1659522771.8.1.min.js HTTP/1.1\" 200 -\n",
      "127.0.0.1 - - [11/Mar/2023 13:13:51] \"GET /_dash-component-suites/dash/dash-renderer/build/dash_renderer.v2_6_1m1659522771.min.js HTTP/1.1\" 200 -\n",
      "127.0.0.1 - - [11/Mar/2023 13:13:51] \"GET /_dash-component-suites/dash/dcc/dash_core_components.v2_6_1m1659522771.js HTTP/1.1\" 200 -\n",
      "127.0.0.1 - - [11/Mar/2023 13:13:51] \"GET /_dash-component-suites/dash/dcc/dash_core_components-shared.v2_6_1m1659522771.js HTTP/1.1\" 200 -\n",
      "127.0.0.1 - - [11/Mar/2023 13:13:51] \"GET /_dash-component-suites/dash/html/dash_html_components.v2_0_5m1659522771.min.js HTTP/1.1\" 200 -\n",
      "127.0.0.1 - - [11/Mar/2023 13:13:51] \"GET /_dash-component-suites/dash/dash_table/bundle.v5_1_5m1659522771.js HTTP/1.1\" 200 -\n",
      "127.0.0.1 - - [11/Mar/2023 13:13:51] \"GET /_dash-layout HTTP/1.1\" 200 -\n",
      "127.0.0.1 - - [11/Mar/2023 13:13:51] \"GET /_dash-dependencies HTTP/1.1\" 200 -\n",
      "127.0.0.1 - - [11/Mar/2023 13:13:51] \"GET /_dash-component-suites/dash/dcc/async-dropdown.js HTTP/1.1\" 200 -\n",
      "127.0.0.1 - - [11/Mar/2023 13:13:51] \"GET /_dash-component-suites/dash/dcc/async-slider.js HTTP/1.1\" 200 -\n",
      "127.0.0.1 - - [11/Mar/2023 13:13:51] \"GET /_dash-component-suites/dash/dcc/async-graph.js HTTP/1.1\" 200 -\n",
      "127.0.0.1 - - [11/Mar/2023 13:13:51] \"GET /_dash-component-suites/dash/dcc/async-plotlyjs.js HTTP/1.1\" 200 -\n",
      "127.0.0.1 - - [11/Mar/2023 13:13:53] \"POST /_dash-update-component HTTP/1.1\" 200 -\n",
      "127.0.0.1 - - [11/Mar/2023 13:13:53] \"POST /_dash-update-component HTTP/1.1\" 200 -\n",
      "127.0.0.1 - - [11/Mar/2023 13:14:54] \"POST /_dash-update-component HTTP/1.1\" 200 -\n",
      "127.0.0.1 - - [11/Mar/2023 13:15:36] \"POST /_dash-update-component HTTP/1.1\" 200 -\n",
      "127.0.0.1 - - [11/Mar/2023 13:15:38] \"POST /_dash-update-component HTTP/1.1\" 200 -\n",
      "127.0.0.1 - - [11/Mar/2023 13:15:40] \"POST /_dash-update-component HTTP/1.1\" 200 -\n",
      "127.0.0.1 - - [11/Mar/2023 13:15:43] \"POST /_dash-update-component HTTP/1.1\" 200 -\n",
      "127.0.0.1 - - [11/Mar/2023 13:18:16] \"POST /_dash-update-component HTTP/1.1\" 200 -\n",
      "127.0.0.1 - - [11/Mar/2023 13:18:18] \"POST /_dash-update-component HTTP/1.1\" 200 -\n",
      "127.0.0.1 - - [11/Mar/2023 13:18:20] \"POST /_dash-update-component HTTP/1.1\" 200 -\n",
      "127.0.0.1 - - [11/Mar/2023 13:18:23] \"POST /_dash-update-component HTTP/1.1\" 200 -\n",
      "127.0.0.1 - - [11/Mar/2023 13:18:26] \"POST /_dash-update-component HTTP/1.1\" 200 -\n",
      "127.0.0.1 - - [11/Mar/2023 13:22:37] \"POST /_dash-update-component HTTP/1.1\" 200 -\n",
      "127.0.0.1 - - [11/Mar/2023 13:23:15] \"POST /_dash-update-component HTTP/1.1\" 200 -\n",
      "127.0.0.1 - - [11/Mar/2023 13:23:35] \"POST /_dash-update-component HTTP/1.1\" 200 -\n",
      "127.0.0.1 - - [11/Mar/2023 13:23:56] \"POST /_dash-update-component HTTP/1.1\" 200 -\n"
     ]
    }
   ],
   "source": [
    "#app.run_server(mode = 'external') # Case of using JupyterDash instance for the app\n",
    "app.run_server()"
   ]
  },
  {
   "attachments": {},
   "cell_type": "markdown",
   "id": "38555e27",
   "metadata": {},
   "source": [
    "### Final thoughts\n",
    "\n",
    "There are better ways of running this exercise.\n",
    "\n",
    "For once, the JupyterDash interface would be one of them, since it allows to run the servers inline with the notebok, or in a separated window still embedded in the Jupyter Lab ecosystem.\n",
    "\n",
    "Also, scripting in python is a nicer way to create plotly-dash apps. As a matter of fact, in the same repo (GitHub) that hosts this notebook, I have an alternative version of the dahsboard that can be launched from a terminal"
   ]
  },
  {
   "attachments": {},
   "cell_type": "markdown",
   "id": "10415f60",
   "metadata": {},
   "source": [
    "To run the jupyter dash version, we only have to intall the following (through conda in my case)\n",
    "\n",
    "```bash\n",
    "$ conda install -c conda-forge jupyter-dash\n",
    "```\n",
    "\n",
    "And substitute the line\n",
    "\n",
    "```python\n",
    "from dash import Dash\n",
    "title = 'SpaceX Landing app'\n",
    "app = Dash(title)\n",
    "```\n",
    "\n",
    "by \n",
    "\n",
    "```python\n",
    "from jupyter_dash import JupyterDash\n",
    "\n",
    "title = 'SpaceX Landing app'\n",
    "app = JupyterDash(title)\n",
    "```\n",
    "\n",
    "Then, the server can be run as follows\n",
    "\n",
    "```python\n",
    "# For the inline mode\n",
    "app.run_server(mode = 'inline')\n",
    "```\n",
    "\n",
    "or for the mode embeded in jupyterlab\n",
    "\n",
    "```python\n",
    "# For the inline mode\n",
    "app.run_server(mode='jupyterlab')\n",
    "```\n",
    "\n",
    "Where both cases will implement hot-reload if given the `debug = True` keyword in `run_server(*args,**kwargs)`, that uppon re-running the block with the `run_server()` statement will refresh the view of the app.\n",
    "\n",
    "In the thrid and final case - external mode\n",
    "\n",
    "```python\n",
    "# For the inline mode\n",
    "app.run_server(mode='external', debug = True)\n",
    "```\n",
    "\n",
    "the hot reloaded is implemented in a way such as the own app will wacth for changes in the code an refresh when detected.\n",
    "\n",
    "\n"
   ]
  }
 ],
 "metadata": {
  "kernelspec": {
   "display_name": "Python 3 (ipykernel)",
   "language": "python",
   "name": "python3"
  },
  "language_info": {
   "codemirror_mode": {
    "name": "ipython",
    "version": 3
   },
   "file_extension": ".py",
   "mimetype": "text/x-python",
   "name": "python",
   "nbconvert_exporter": "python",
   "pygments_lexer": "ipython3",
   "version": "3.10.4"
  }
 },
 "nbformat": 4,
 "nbformat_minor": 5
}
